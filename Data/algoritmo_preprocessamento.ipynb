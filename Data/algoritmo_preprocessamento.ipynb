{
 "cells": [
  {
   "cell_type": "code",
   "execution_count": null,
   "id": "53106f0a",
   "metadata": {
    "vscode": {
     "languageId": "plaintext"
    }
   },
   "outputs": [],
   "source": [
    "# Tendência Mensal da ENA Bruta por Subsistema\n",
    "import pandas as pd\n",
    "import matplotlib.pyplot as plt\n",
    "import seaborn as sns\n",
    "\n",
    "# le o CSV unificado\n",
    "df = pd.read_csv(\"/content/ENA_DIARIO_RESERVATORIOS_2020_2025.csv\", sep=\";\", encoding=\"utf-8\")\n",
    "\n",
    "# Converte datas\n",
    "df[\"ena_data\"] = pd.to_datetime(df[\"ena_data\"], errors=\"coerce\")\n",
    "\n",
    "# Tendencia Mensal por Subsistema\n",
    "df[\"mes_ano\"] = df[\"ena_data\"].dt.to_period(\"M\")\n",
    "monthly_ena = df.groupby([\"mes_ano\", \"nom_subsistema\"])[\"ena_bruta_res_mwmed\"].mean().reset_index()\n",
    "monthly_ena[\"mes_ano\"] = monthly_ena[\"mes_ano\"].dt.to_timestamp()\n",
    "\n",
    "plt.figure(figsize=(15, 7))\n",
    "sns.lineplot(data=monthly_ena, x=\"mes_ano\", y=\"ena_bruta_res_mwmed\", hue=\"nom_subsistema\")\n",
    "plt.title(\"ENA Bruta Média Mensal por Subsistema\")\n",
    "plt.xlabel(\"Data\")\n",
    "plt.ylabel(\"ENA Bruta Média (MWmed)\")\n",
    "plt.legend(title=\"Subsistema\")\n",
    "plt.grid(True)\n",
    "plt.tight_layout()\n",
    "plt.show()\n",
    "\n",
    "# Sazonalidade (médias por mês)\n",
    "df[\"mes\"] = df[\"ena_data\"].dt.month\n",
    "monthly_avg_ena = df.groupby(\"mes\")[\"ena_bruta_res_mwmed\"].mean().reset_index()\n",
    "\n",
    "plt.figure(figsize=(10, 6))\n",
    "sns.lineplot(data=monthly_avg_ena, x=\"mes\", y=\"ena_bruta_res_mwmed\", marker=\"o\")\n",
    "plt.title(\"Sazonalidade da ENA Bruta Média Mensal\")\n",
    "plt.xlabel(\"Mês\")\n",
    "plt.ylabel(\"ENA Bruta Média (MWmed)\")\n",
    "plt.xticks(range(1, 13))\n",
    "plt.grid(True)\n",
    "plt.tight_layout()\n",
    "plt.show()"
   ]
  },
  {
   "cell_type": "code",
   "execution_count": null,
   "id": "cb7d96a1",
   "metadata": {
    "vscode": {
     "languageId": "plaintext"
    }
   },
   "outputs": [],
   "source": [
    "blank_counts = df.isnull().sum()\n",
    "print(\"Número de valores em branco em cada coluna:\")\n",
    "print(blank_counts)"
   ]
  },
  {
   "cell_type": "code",
   "execution_count": null,
   "id": "58e32afd",
   "metadata": {
    "vscode": {
     "languageId": "plaintext"
    }
   },
   "outputs": [],
   "source": [
    "df = df.drop('id_subsistema', axis=1)\n",
    "print(\"Coluna 'id_subsistema' removida.\")"
   ]
  },
  {
   "cell_type": "code",
   "execution_count": null,
   "id": "6e884757",
   "metadata": {
    "vscode": {
     "languageId": "plaintext"
    }
   },
   "outputs": [],
   "source": [
    "print(\"Columns in the DataFrame:\")\n",
    "for col in df.columns:\n",
    "  print(col)"
   ]
  },
  {
   "cell_type": "code",
   "execution_count": null,
   "id": "5f393fc1",
   "metadata": {
    "vscode": {
     "languageId": "plaintext"
    }
   },
   "outputs": [],
   "source": [
    "print(\"Quantidade de valores nulos por coluna:\")\n",
    "print(blank_counts)"
   ]
  },
  {
   "cell_type": "code",
   "execution_count": null,
   "id": "a7c6a952",
   "metadata": {
    "vscode": {
     "languageId": "plaintext"
    }
   },
   "outputs": [],
   "source": [
    "print(\"Descrição dos dados:\")\n",
    "display(df.describe(include='all'))"
   ]
  },
  {
   "cell_type": "code",
   "execution_count": null,
   "id": "d0619928",
   "metadata": {
    "vscode": {
     "languageId": "plaintext"
    }
   },
   "outputs": [],
   "source": [
    "# Colocar no campo de valores null a mediana referente aos campos existentes na coluna.\n",
    "numeric_cols_with_nulls = df.select_dtypes(include=['number']).columns[df.select_dtypes(include=['number']).isnull().any()]\n",
    "\n",
    "for col in numeric_cols_with_nulls:\n",
    "  median_val = df[col].median()\n",
    "  df[col] = df[col].fillna(median_val)\n",
    "\n",
    "print(\"Valores nulos preenchidos com a mediana para colunas numéricas.\")"
   ]
  },
  {
   "cell_type": "code",
   "execution_count": null,
   "id": "69b394bb",
   "metadata": {
    "vscode": {
     "languageId": "plaintext"
    }
   },
   "outputs": [],
   "source": [
    "mode_nom_ree = df['nom_ree'].mode()[0]\n",
    "df['nom_ree'] = df['nom_ree'].fillna(mode_nom_ree)\n",
    "\n",
    "print(\"Valores nulos na coluna 'nom_ree' preenchidos com a moda.\")"
   ]
  },
  {
   "cell_type": "code",
   "execution_count": null,
   "id": "5c5db2a4",
   "metadata": {
    "vscode": {
     "languageId": "plaintext"
    }
   },
   "outputs": [],
   "source": [
    "print(\"Número de valores nulos por coluna após preenchimento de 'nom_ree':\")\n",
    "print(df.isnull().sum())"
   ]
  },
  {
   "cell_type": "code",
   "execution_count": null,
   "id": "1ad8ab5c",
   "metadata": {
    "vscode": {
     "languageId": "plaintext"
    }
   },
   "outputs": [],
   "source": [
    "print(\"Quantidade de valores não nulos por coluna:\")\n",
    "print(df.count())"
   ]
  },
  {
   "cell_type": "code",
   "execution_count": null,
   "id": "bd880bca",
   "metadata": {
    "vscode": {
     "languageId": "plaintext"
    }
   },
   "outputs": [],
   "source": [
    "!pip install xlwt\n",
    "import numpy as np\n",
    "import pandas as pd\n",
    "\n",
    "max_rows_per_sheet = 1048575  # um a menos que o limite real\n",
    "num_sheets = int(np.ceil(len(df) / max_rows_per_sheet))\n",
    "\n",
    "with pd.ExcelWriter(\"ena_trusted_cleaned_split.xlsx\", engine=\"openpyxl\") as writer:\n",
    "    for i in range(num_sheets):\n",
    "        start_row = i * max_rows_per_sheet\n",
    "        end_row = min((i + 1) * max_rows_per_sheet, len(df))\n",
    "        df_sheet = df.iloc[start_row:end_row].reset_index(drop=True)\n",
    "        sheet_name = f\"Sheet_{i+1}\"\n",
    "        df_sheet.to_excel(writer, sheet_name=sheet_name, index=False)\n",
    "\n",
    "print(f\"DataFrame salvo em 'ena_trusted_cleaned_split.xlsx' em {num_sheets} sheets.\")\n"
   ]
  },
  {
   "cell_type": "code",
   "execution_count": null,
   "id": "5bb1f3e4",
   "metadata": {
    "vscode": {
     "languageId": "plaintext"
    }
   },
   "outputs": [],
   "source": [
    "import pandas as pd\n",
    "\n",
    "# Lista de arquivos de 2020 a 2025\n",
    "arquivos = [\n",
    "    \"ENA_DIARIO_RESERVATORIOS_2020.csv\",\n",
    "    \"ENA_DIARIO_RESERVATORIOS_2021.csv\",\n",
    "    \"ENA_DIARIO_RESERVATORIOS_2022.csv\",\n",
    "    \"ENA_DIARIO_RESERVATORIOS_2023.csv\",\n",
    "    \"ENA_DIARIO_RESERVATORIOS_2024.csv\",\n",
    "    \"ENA_DIARIO_RESERVATORIOS_2025.csv\"\n",
    "]\n",
    "\n",
    "# Ler todos os CSVs e empilhar em um único DataFrame\n",
    "dfs = [pd.read_csv(arq, sep=\";\", encoding=\"utf-8\") for arq in arquivos]\n",
    "df = pd.concat(dfs, ignore_index=True)\n",
    "\n",
    "# Padronizar nome das colunas (boa prática)\n",
    "df.columns = df.columns.str.strip().str.lower().str.replace(\" \", \"_\")\n",
    "\n",
    "# Converter a coluna de data\n",
    "df[\"ena_data\"] = pd.to_datetime(df[\"ena_data\"], errors=\"coerce\")\n",
    "\n",
    "# Salvar em CSV unificado\n",
    "df.to_csv(\"ENA_DIARIO_RESERVATORIOSs_2020_2025.csv\", sep=\";\", encoding=\"utf-8\", index=False)\n",
    "\n",
    "print(\"arquivo unificado gerado: ENA_DIARIO_RESERVATORIOSs_2020_2025.csv\")\n"
   ]
  },
  {
   "cell_type": "code",
   "execution_count": null,
   "id": "3d236e9d",
   "metadata": {
    "vscode": {
     "languageId": "plaintext"
    }
   },
   "outputs": [],
   "source": [
    "print(\"Número de campos null por coluna:\")\n",
    "print(df.isnull().sum())"
   ]
  },
  {
   "cell_type": "code",
   "execution_count": null,
   "id": "004c45bf",
   "metadata": {
    "vscode": {
     "languageId": "plaintext"
    }
   },
   "outputs": [],
   "source": [
    "print(\"Número total de linhas na tabela:\")\n",
    "print(len(df))"
   ]
  },
  {
   "cell_type": "code",
   "execution_count": null,
   "id": "1500fb14",
   "metadata": {
    "vscode": {
     "languageId": "plaintext"
    }
   },
   "outputs": [],
   "source": [
    "numeric_cols_with_nulls = df.select_dtypes(include=['number']).columns[df.select_dtypes(include=['number']).isnull().any()]\n",
    "\n",
    "for col in numeric_cols_with_nulls:\n",
    "  mean_val = df[col].mean()\n",
    "  df[col] = df[col].fillna(mean_val)\n",
    "\n",
    "print(\"Valores nulos preenchidos com a média para colunas numéricas.\")"
   ]
  },
  {
   "cell_type": "code",
   "execution_count": null,
   "id": "68b92492",
   "metadata": {
    "vscode": {
     "languageId": "plaintext"
    }
   },
   "outputs": [],
   "source": [
    "print(\"Número de campos null por coluna:\")\n",
    "print(df.isnull().sum())"
   ]
  },
  {
   "cell_type": "code",
   "execution_count": null,
   "id": "240c49c9",
   "metadata": {
    "vscode": {
     "languageId": "plaintext"
    }
   },
   "outputs": [],
   "source": [
    "print(\"Valores únicos na coluna 'nom_ree' e suas contagens:\")\n",
    "display(df['nom_ree'].value_counts())"
   ]
  },
  {
   "cell_type": "code",
   "execution_count": null,
   "id": "b24de274",
   "metadata": {
    "vscode": {
     "languageId": "plaintext"
    }
   },
   "outputs": [],
   "source": [
    "mode_nom_ree = df['nom_ree'].mode()[0]\n",
    "df['nom_ree'] = df['nom_ree'].fillna(mode_nom_ree)\n",
    "\n",
    "print(\"Valores nulos na coluna 'nom_ree' preenchidos com a moda.\")"
   ]
  },
  {
   "cell_type": "code",
   "execution_count": null,
   "id": "f2570012",
   "metadata": {
    "vscode": {
     "languageId": "plaintext"
    }
   },
   "outputs": [],
   "source": [
    "df.to_csv('ena_trusted_cleaned_final.csv', index=False)\n",
    "print(\"Tabela salva como 'ena_trusted_cleaned_final.csv'. Você pode baixá-la agora.\")"
   ]
  },
  {
   "cell_type": "code",
   "execution_count": null,
   "id": "88bbe8a0",
   "metadata": {
    "vscode": {
     "languageId": "plaintext"
    }
   },
   "outputs": [],
   "source": [
    "mean_max_ena_por_bacia = max_ena_anual_por_bacia.groupby('nom_bacia')['ena_bruta_res_mwmed'].mean().reset_index()\n",
    "display(mean_max_ena_por_bacia)"
   ]
  },
  {
   "cell_type": "code",
   "execution_count": null,
   "id": "98174807",
   "metadata": {
    "vscode": {
     "languageId": "plaintext"
    }
   },
   "outputs": [],
   "source": [
    "plt.figure(figsize=(12, 8))\n",
    "sns.barplot(data=mean_max_ena_por_bacia.sort_values('ena_bruta_res_mwmed', ascending=False),\n",
    "            x='ena_bruta_res_mwmed', y='nom_bacia', palette='viridis')\n",
    "plt.title('Média da ENA Bruta Máxima Anual por Bacia')\n",
    "plt.xlabel('Média da ENA Bruta Máxima Anual (MWmed)')\n",
    "plt.ylabel('Bacia Hidrográfica')\n",
    "plt.tight_layout()\n",
    "plt.show()\n",
    "\n",
    "plt.figure(figsize=(12, 8))\n",
    "sns.barplot(data=mean_max_ena_por_bacia.sort_values('ena_armazenavel_res_mwmed', ascending=False),\n",
    "            x='ena_armazenavel_res_mwmed', y='nom_bacia', palette='viridis')\n",
    "plt.title('Média da ENA Armazenável Máxima Anual por Bacia')\n",
    "plt.xlabel('Média da ENA Armazenável Máxima Anual (MWmed)')\n",
    "plt.ylabel('Bacia Hidrográfica')\n",
    "plt.tight_layout()\n",
    "plt.show()"
   ]
  },
  {
   "cell_type": "code",
   "execution_count": null,
   "id": "b24e0736",
   "metadata": {
    "vscode": {
     "languageId": "plaintext"
    }
   },
   "outputs": [],
   "source": [
    "fig = px.line(df, x='ena_data', y='ena_bruta_res_mwmed', color='nom_bacia',\n",
    "              title='ENA Bruta (MWmed) ao Longo do Tempo por Bacia Hidrográfica',\n",
    "              labels={'ena_data': 'Data', 'ena_bruta_res_mwmed': 'ENA Bruta (MWmed)', 'nom_bacia': 'Bacia Hidrográfica'})\n",
    "fig.update_layout(xaxis_title='Data', yaxis_title='ENA Bruta (MWmed)')\n",
    "fig.show()"
   ]
  },
  {
   "cell_type": "code",
   "execution_count": null,
   "id": "4c838e5b",
   "metadata": {
    "vscode": {
     "languageId": "plaintext"
    }
   },
   "outputs": [],
   "source": [
    "plt.figure(figsize=(15, 8))\n",
    "sns.boxplot(data=df, x='nom_bacia', y='ena_bruta_res_mwmed')\n",
    "plt.title('Distribuição da ENA Bruta (MWmed) por Bacia Hidrográfica')\n",
    "plt.xlabel('Bacia Hidrográfica')\n",
    "plt.ylabel('ENA Bruta (MWmed)')\n",
    "plt.xticks(rotation=90)\n",
    "plt.tight_layout()\n",
    "plt.show()"
   ]
  },
  {
   "cell_type": "code",
   "execution_count": null,
   "id": "6f0f9abc",
   "metadata": {
    "vscode": {
     "languageId": "plaintext"
    }
   },
   "outputs": [],
   "source": [
    "df['mes'] = df['ena_data'].dt.month\n",
    "monthly_avg_ena_armazenavel = df.groupby('mes')['ena_armazenavel_res_mwmed'].mean().reset_index()\n",
    "\n",
    "plt.figure(figsize=(10, 6))\n",
    "sns.lineplot(data=monthly_avg_ena_armazenavel, x='mes', y='ena_armazenavel_res_mwmed', marker='o')\n",
    "plt.title('Sazonalidade da ENA Armazenável Média Mensal')\n",
    "plt.xlabel('Mês')\n",
    "plt.ylabel('ENA Armazenável Média (MWmed)')\n",
    "plt.xticks(range(1, 13))\n",
    "plt.grid(True)\n",
    "plt.tight_layout()\n",
    "plt.show()"
   ]
  }
 ],
 "metadata": {
  "language_info": {
   "name": "python"
  }
 },
 "nbformat": 4,
 "nbformat_minor": 5
}
